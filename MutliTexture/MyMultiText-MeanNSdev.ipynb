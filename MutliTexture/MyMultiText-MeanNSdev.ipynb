{
  "nbformat": 4,
  "nbformat_minor": 0,
  "metadata": {
    "colab": {
      "provenance": [],
      "authorship_tag": "ABX9TyODacdGktRQXQkApTUd6Fni"
    },
    "kernelspec": {
      "name": "python3",
      "display_name": "Python 3"
    },
    "language_info": {
      "name": "python"
    }
  },
  "cells": [
    {
      "cell_type": "code",
      "execution_count": 3,
      "metadata": {
        "colab": {
          "base_uri": "https://localhost:8080/"
        },
        "id": "CyLUlBiu6qsq",
        "outputId": "534ca987-0ee5-4191-e5bd-bf9721f9a53d"
      },
      "outputs": [
        {
          "output_type": "stream",
          "name": "stdout",
          "text": [
            "Image: [[[ 47 117 111]\n",
            "  [ 50 120 114]\n",
            "  [ 54 121 118]\n",
            "  ...\n",
            "  [ 34 104 111]\n",
            "  [ 35 105 112]\n",
            "  [ 37 108 112]]\n",
            "\n",
            " [[ 49 119 113]\n",
            "  [ 51 121 115]\n",
            "  [ 53 120 117]\n",
            "  ...\n",
            "  [ 36 106 113]\n",
            "  [ 37 107 114]\n",
            "  [ 39 110 114]]\n",
            "\n",
            " [[ 53 123 117]\n",
            "  [ 53 123 117]\n",
            "  [ 52 119 116]\n",
            "  ...\n",
            "  [ 39 111 118]\n",
            "  [ 40 113 117]\n",
            "  [ 41 114 118]]\n",
            "\n",
            " ...\n",
            "\n",
            " [[176 210 234]\n",
            "  [176 210 234]\n",
            "  [182 216 240]\n",
            "  ...\n",
            "  [  0  86  78]\n",
            "  [ 26 130 119]\n",
            "  [ 19 148 133]]\n",
            "\n",
            " [[180 214 238]\n",
            "  [175 209 233]\n",
            "  [178 212 236]\n",
            "  ...\n",
            "  [  0  83  74]\n",
            "  [ 23 129 116]\n",
            "  [ 26 158 141]]\n",
            "\n",
            " [[180 214 238]\n",
            "  [176 210 234]\n",
            "  [178 212 236]\n",
            "  ...\n",
            "  [  3  92  83]\n",
            "  [ 22 130 117]\n",
            "  [ 28 162 144]]]\n",
            "ColorStats: [ 96.16996791 142.36579045 155.60110453  53.26109683  51.27674416\n",
            "  59.34032116]\n"
          ]
        }
      ],
      "source": [
        "import cv2\n",
        "import numpy as np\n",
        "\n",
        "# Create a sample image (or load one)\n",
        "\n",
        "#image = np.array([[10, 20, 30],\n",
        "#            [40, 50, 60],\n",
        "#                  [70, 80, 90]])\n",
        "\n",
        "image = cv2.imread('Animal_04.jpg')\n",
        "\n",
        "# Calculate mean and standard deviation\n",
        "(mean, stddev) = cv2.meanStdDev(image, cv2.COLOR_BGR2HSV)\n",
        "colorStats = np.concatenate([mean, stddev]).flatten()\n",
        "\n",
        "print(f\"Image: {image}\")\n",
        "#print(f\"Mean: {mean}\")\n",
        "#print(f\"Standard Deviation: {stddev}\")\n",
        "print(f\"ColorStats: {colorStats}\")"
      ]
    }
  ]
}